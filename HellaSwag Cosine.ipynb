{
 "cells": [
  {
   "cell_type": "code",
   "execution_count": 6,
   "id": "58f98a8a",
   "metadata": {},
   "outputs": [],
   "source": [
    "import jsonlines\n",
    "from sklearn.feature_extraction.text import TfidfVectorizer\n",
    "from sklearn.metrics.pairwise import cosine_similarity\n",
    "import random\n",
    "\n",
    "file_path = 'HellaSwag_Turkish.jsonl'\n",
    "\n",
    "def read_jsonl(file):\n",
    "    data = []\n",
    "    with jsonlines.open(file) as reader:\n",
    "        for line in reader:\n",
    "            data.append(line)\n",
    "    return data\n",
    "\n",
    "dataset = read_jsonl(file_path)\n",
    "\n",
    "selected_sample = random.choice(dataset)\n",
    "selected_ctx = selected_sample['ctx']\n",
    "\n",
    "vectorizer = TfidfVectorizer()\n",
    "ctx_list = [data['ctx'] for data in dataset]\n",
    "vectors = vectorizer.fit_transform([selected_ctx] + ctx_list)\n",
    "similarity_scores = cosine_similarity(vectors[0:1], vectors[1:]).flatten()\n",
    "\n",
    "sorted_indices = similarity_scores.argsort()[::-1][1:11]\n",
    "similar_samples = [dataset[i] for i in sorted_indices]\n",
    "\n",
    "similar_samples.append(selected_sample)\n",
    "\n",
    "with jsonlines.open('HellaSwag_10_similar_TR_val.jsonl', mode='w') as writer:\n",
    "    for sample in similar_samples:\n",
    "        writer.write(sample)"
   ]
  },
  {
   "cell_type": "code",
   "execution_count": null,
   "id": "137bfada",
   "metadata": {},
   "outputs": [],
   "source": [
    "SAME WITH ENGLISH"
   ]
  },
  {
   "cell_type": "code",
   "execution_count": 3,
   "id": "91c47f89",
   "metadata": {},
   "outputs": [],
   "source": [
    "import jsonlines\n",
    "from sklearn.feature_extraction.text import TfidfVectorizer\n",
    "from sklearn.metrics.pairwise import cosine_similarity\n",
    "import random\n",
    "\n",
    "file_path = 'HellaSwag_English.jsonl'\n",
    "\n",
    "def read_jsonl(file):\n",
    "    data = []\n",
    "    with jsonlines.open(file) as reader:\n",
    "        for line in reader:\n",
    "            data.append(line)\n",
    "    return data\n",
    "\n",
    "dataset = read_jsonl(file_path)\n",
    "\n",
    "selected_sample = random.choice(dataset)\n",
    "selected_ctx = selected_sample['ctx']\n",
    "\n",
    "vectorizer = TfidfVectorizer()\n",
    "ctx_list = [data['ctx'] for data in dataset]\n",
    "vectors = vectorizer.fit_transform([selected_ctx] + ctx_list)\n",
    "similarity_scores = cosine_similarity(vectors[0:1], vectors[1:]).flatten()\n",
    "\n",
    "sorted_indices = similarity_scores.argsort()[::-1][1:11] \n",
    "similar_samples = [dataset[i] for i in sorted_indices]\n",
    "\n",
    "similar_samples.append(selected_sample)\n",
    "\n",
    "with jsonlines.open('HellaSwag_10_similar_ENG_val.jsonl', mode='w') as writer:\n",
    "    for sample in similar_samples:\n",
    "        writer.write(sample)"
   ]
  },
  {
   "cell_type": "code",
   "execution_count": null,
   "id": "a3ed50da",
   "metadata": {},
   "outputs": [],
   "source": []
  }
 ],
 "metadata": {
  "kernelspec": {
   "display_name": "Python 3 (ipykernel)",
   "language": "python",
   "name": "python3"
  },
  "language_info": {
   "codemirror_mode": {
    "name": "ipython",
    "version": 3
   },
   "file_extension": ".py",
   "mimetype": "text/x-python",
   "name": "python",
   "nbconvert_exporter": "python",
   "pygments_lexer": "ipython3",
   "version": "3.10.9"
  }
 },
 "nbformat": 4,
 "nbformat_minor": 5
}
