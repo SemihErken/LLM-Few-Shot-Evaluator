{
 "cells": [
  {
   "cell_type": "code",
   "execution_count": null,
   "id": "c8a4ed7f",
   "metadata": {},
   "outputs": [],
   "source": [
    "arc_val.jsonl"
   ]
  },
  {
   "cell_type": "code",
   "execution_count": 4,
   "id": "70924430",
   "metadata": {},
   "outputs": [],
   "source": [
    "import pandas as pd\n",
    "from sklearn.feature_extraction.text import TfidfVectorizer\n",
    "from sklearn.metrics.pairwise import cosine_similarity\n",
    "import random\n",
    "import jsonlines\n",
    "\n",
    "file_path = 'arc_val.jsonl'\n",
    "\n",
    "def read_jsonl(file):\n",
    "    data = []\n",
    "    with jsonlines.open(file) as reader:\n",
    "        for line in reader:\n",
    "            data.append(line)\n",
    "    return data\n",
    "\n",
    "dataset = read_jsonl(file_path)\n",
    "\n",
    "selected_index = random.randint(0, len(dataset) - 1)\n",
    "selected_question = dataset[selected_index]['question']\n",
    "selected_row = dataset[selected_index]\n",
    "\n",
    "vectorizer = TfidfVectorizer()\n",
    "questions = [data['question'] for data in dataset]\n",
    "vectors = vectorizer.fit_transform([selected_question] + questions)\n",
    "similarity_scores = cosine_similarity(vectors[0:1], vectors[1:]).flatten()\n",
    "\n",
    "sorted_indices = similarity_scores.argsort()[::-1][1:25]\n",
    "similar_samples = [dataset[i] for i in sorted_indices]\n",
    "\n",
    "similar_samples.append(selected_row)\n",
    "\n",
    "with jsonlines.open('arc_25_similar_val.jsonl', mode='w') as writer:\n",
    "    for sample in similar_samples:\n",
    "        writer.write(sample)"
   ]
  }
 ],
 "metadata": {
  "kernelspec": {
   "display_name": "Python 3 (ipykernel)",
   "language": "python",
   "name": "python3"
  },
  "language_info": {
   "codemirror_mode": {
    "name": "ipython",
    "version": 3
   },
   "file_extension": ".py",
   "mimetype": "text/x-python",
   "name": "python",
   "nbconvert_exporter": "python",
   "pygments_lexer": "ipython3",
   "version": "3.10.9"
  }
 },
 "nbformat": 4,
 "nbformat_minor": 5
}
