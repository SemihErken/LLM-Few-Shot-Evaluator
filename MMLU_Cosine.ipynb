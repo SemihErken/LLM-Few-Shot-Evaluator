{
 "cells": [
  {
   "cell_type": "code",
   "execution_count": 4,
   "id": "e05bf326",
   "metadata": {},
   "outputs": [],
   "source": [
    "import pandas as pd\n",
    "from sklearn.feature_extraction.text import TfidfVectorizer\n",
    "from sklearn.metrics.pairwise import cosine_similarity\n",
    "import random\n",
    "\n",
    "file_path = 'mmlu_test_en_ALL.csv'\n",
    "data = pd.read_csv(file_path)\n",
    "\n",
    "selected_index = random.randint(0, len(data) - 1)\n",
    "selected_question = data.loc[selected_index, 'Question']\n",
    "selected_row = data.iloc[selected_index]\n",
    "\n",
    "selected_row.to_frame().T.to_csv('mmlu_test_sample_en.csv', index=False)\n",
    "\n",
    "vectorizer = TfidfVectorizer()\n",
    "vectors = vectorizer.fit_transform([selected_question] + list(data['Question']))\n",
    "similarity_scores = cosine_similarity(vectors[0:1], vectors[1:]).flatten()[1:]\n",
    "\n",
    "top_similar_indices = similarity_scores.argsort()[::-1][:5]\n",
    "similar_samples = data.iloc[top_similar_indices]\n",
    "\n",
    "similar_samples.to_csv('mmlu_val_en.csv', index=False)"
   ]
  }
 ],
 "metadata": {
  "kernelspec": {
   "display_name": "Python 3 (ipykernel)",
   "language": "python",
   "name": "python3"
  },
  "language_info": {
   "codemirror_mode": {
    "name": "ipython",
    "version": 3
   },
   "file_extension": ".py",
   "mimetype": "text/x-python",
   "name": "python",
   "nbconvert_exporter": "python",
   "pygments_lexer": "ipython3",
   "version": "3.10.9"
  }
 },
 "nbformat": 4,
 "nbformat_minor": 5
}
